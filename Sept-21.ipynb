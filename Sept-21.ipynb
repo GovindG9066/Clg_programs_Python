{
 "cells": [
  {
   "cell_type": "code",
   "execution_count": 1,
   "id": "a3edb80f-7e72-443a-8419-b9219f0467c7",
   "metadata": {},
   "outputs": [
    {
     "name": "stdout",
     "output_type": "stream",
     "text": [
      "Sept-21\n"
     ]
    }
   ],
   "source": [
    "print(\"Sept-21\")"
   ]
  },
  {
   "cell_type": "code",
   "execution_count": 9,
   "id": "c78279e5-5795-47b7-8ecc-1d0394b28d03",
   "metadata": {},
   "outputs": [
    {
     "name": "stdout",
     "output_type": "stream",
     "text": [
      "(1,)\n",
      "(1, 5, 3, 8, 66, 44, 55)\n",
      "(2, 5, 9, 6, 5, 4)\n"
     ]
    }
   ],
   "source": [
    "t1=() # empty tuple\n",
    "\n",
    "t2=(1,) # agar tuple me sirf 1 element he comman (,) lgana jruri he\n",
    "print(t2)\n",
    "\n",
    "t3=(1,5,3,8,66,44,55) # tuple with multiple elements\n",
    "print(t3)\n",
    "\n",
    "t4= 2,5,9,6,5,4 # tuple with without bracket\n",
    "print(t4)"
   ]
  },
  {
   "cell_type": "code",
   "execution_count": 15,
   "id": "9a068d78-7fc3-4e9f-80c2-7c90aa6aa325",
   "metadata": {},
   "outputs": [
    {
     "name": "stdout",
     "output_type": "stream",
     "text": [
      "(4, 88, 66, 4, 6, 84, 541, 2)\n",
      "2\n",
      "66\n"
     ]
    }
   ],
   "source": [
    "t5=(4,88,66,4,6,84,541,2)\n",
    "print(t5)\n",
    "\n",
    "print(t5[-1]) # accessing last element in the list\n",
    "\n",
    "print(t5[2]) # indexing starting from 0 accenss the 2nd index element which is 66"
   ]
  },
  {
   "cell_type": "code",
   "execution_count": 23,
   "id": "5790c228-08a4-4354-a32b-4db94810bb42",
   "metadata": {},
   "outputs": [
    {
     "name": "stdout",
     "output_type": "stream",
     "text": [
      "(88, 66, 4, 64, 94, 64, 656, 6)\n",
      "(4, 64, 94, 64, 656, 6)\n",
      "(88, 66, 4, 64, 94, 64)\n"
     ]
    }
   ],
   "source": [
    "t6=88,66,4,64,94,64,656,6\n",
    "print(t6)\n",
    "\n",
    "print(t6[2:]) # from 2nd index to end\n",
    "\n",
    "print(t6[:6]) # starting from 0th index up to 6th index without 6th index\n"
   ]
  },
  {
   "cell_type": "code",
   "execution_count": null,
   "id": "2cac3244-cc2e-4435-a064-b150544c9edb",
   "metadata": {},
   "outputs": [],
   "source": []
  }
 ],
 "metadata": {
  "kernelspec": {
   "display_name": "Python [conda env:base] *",
   "language": "python",
   "name": "conda-base-py"
  },
  "language_info": {
   "codemirror_mode": {
    "name": "ipython",
    "version": 3
   },
   "file_extension": ".py",
   "mimetype": "text/x-python",
   "name": "python",
   "nbconvert_exporter": "python",
   "pygments_lexer": "ipython3",
   "version": "3.12.7"
  }
 },
 "nbformat": 4,
 "nbformat_minor": 5
}
