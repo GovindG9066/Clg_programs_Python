{
 "cells": [
  {
   "cell_type": "code",
   "execution_count": null,
   "id": "a3edb80f-7e72-443a-8419-b9219f0467c7",
   "metadata": {},
   "outputs": [],
   "source": []
  }
 ],
 "metadata": {
  "kernelspec": {
   "display_name": "",
   "name": ""
  },
  "language_info": {
   "name": ""
  }
 },
 "nbformat": 4,
 "nbformat_minor": 5
}
