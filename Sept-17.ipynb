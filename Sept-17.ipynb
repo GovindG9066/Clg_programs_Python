{
 "cells": [
  {
   "cell_type": "code",
   "execution_count": 1,
   "id": "0064afb9-d5ef-492e-8416-574aa5dd5fb3",
   "metadata": {},
   "outputs": [
    {
     "name": "stdout",
     "output_type": "stream",
     "text": [
      "Sept-17\n"
     ]
    }
   ],
   "source": [
    "print(\"Sept-17\")"
   ]
  },
  {
   "cell_type": "code",
   "execution_count": 7,
   "id": "3d8b6ea2-9ff2-415a-94c1-4d0ca5b931fc",
   "metadata": {},
   "outputs": [
    {
     "name": "stdout",
     "output_type": "stream",
     "text": [
      "Reverse of the number : \n",
      "2651\n"
     ]
    }
   ],
   "source": [
    "print(\"Reverse of the number : \")\n",
    "num=1562\n",
    "rev=0\n",
    "\n",
    "while num != 0:\n",
    "    digit=num%10\n",
    "    rev=rev*10+digit\n",
    "    num=num//10\n",
    "\n",
    "print(rev)"
   ]
  },
  {
   "cell_type": "code",
   "execution_count": 9,
   "id": "40fe1dd9-6fbe-435a-84ba-6d7eb4c3aef9",
   "metadata": {},
   "outputs": [
    {
     "name": "stdout",
     "output_type": "stream",
     "text": [
      "Reverse of the number using function : \n",
      "4361\n"
     ]
    }
   ],
   "source": [
    "print(\"Reverse of the number using function : \")\n",
    "\n",
    "def ReverseNo(num,rev=0):\n",
    "    if num == 0:\n",
    "        return rev\n",
    "    \n",
    "    digit=num % 10\n",
    "    return ReverseNo(num // 10,rev=rev*10+digit)\n",
    "\n",
    "num=1634\n",
    "print(ReverseNo(num))"
   ]
  },
  {
   "cell_type": "code",
   "execution_count": null,
   "id": "657a0f93-ed5a-4ac5-85d5-86dcc6034c5f",
   "metadata": {},
   "outputs": [],
   "source": []
  }
 ],
 "metadata": {
  "kernelspec": {
   "display_name": "Python [conda env:base] *",
   "language": "python",
   "name": "conda-base-py"
  },
  "language_info": {
   "codemirror_mode": {
    "name": "ipython",
    "version": 3
   },
   "file_extension": ".py",
   "mimetype": "text/x-python",
   "name": "python",
   "nbconvert_exporter": "python",
   "pygments_lexer": "ipython3",
   "version": "3.12.7"
  }
 },
 "nbformat": 4,
 "nbformat_minor": 5
}
