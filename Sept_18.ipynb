{
 "cells": [
  {
   "cell_type": "code",
   "execution_count": 1,
   "id": "2d1ed8ff-7dd7-4f25-b2a3-e9618999b35b",
   "metadata": {},
   "outputs": [
    {
     "name": "stdout",
     "output_type": "stream",
     "text": [
      "Sept_18\n"
     ]
    }
   ],
   "source": [
    "print(\"Sept_18\")"
   ]
  },
  {
   "cell_type": "code",
   "execution_count": 3,
   "id": "1ed8304f-a045-44f1-a84b-df586199ed5d",
   "metadata": {},
   "outputs": [
    {
     "name": "stdout",
     "output_type": "stream",
     "text": [
      "Simple right angle triangle : \n",
      "* \n",
      "* * \n",
      "* * * \n",
      "* * * * \n",
      "* * * * * \n"
     ]
    }
   ],
   "source": [
    "print(\"Simple right angle triangle : \")\n",
    "count=5\n",
    "\n",
    "for i in range(1,count+1):\n",
    "    print(\"* \" * i)"
   ]
  },
  {
   "cell_type": "code",
   "execution_count": null,
   "id": "3062cd78-892c-4100-945b-6ff010a17478",
   "metadata": {},
   "outputs": [],
   "source": []
  }
 ],
 "metadata": {
  "kernelspec": {
   "display_name": "Python [conda env:base] *",
   "language": "python",
   "name": "conda-base-py"
  },
  "language_info": {
   "codemirror_mode": {
    "name": "ipython",
    "version": 3
   },
   "file_extension": ".py",
   "mimetype": "text/x-python",
   "name": "python",
   "nbconvert_exporter": "python",
   "pygments_lexer": "ipython3",
   "version": "3.12.7"
  }
 },
 "nbformat": 4,
 "nbformat_minor": 5
}
