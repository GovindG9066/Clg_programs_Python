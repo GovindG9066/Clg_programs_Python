{
 "cells": [
  {
   "cell_type": "code",
   "execution_count": null,
   "id": "2d1ed8ff-7dd7-4f25-b2a3-e9618999b35b",
   "metadata": {},
   "outputs": [],
   "source": []
  }
 ],
 "metadata": {
  "kernelspec": {
   "display_name": "",
   "name": ""
  },
  "language_info": {
   "name": ""
  }
 },
 "nbformat": 4,
 "nbformat_minor": 5
}
