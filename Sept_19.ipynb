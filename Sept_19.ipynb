{
 "cells": [
  {
   "cell_type": "code",
   "execution_count": 3,
   "id": "dcf6123b-b2fc-4512-a36e-4f7f776eaa62",
   "metadata": {},
   "outputs": [
    {
     "name": "stdout",
     "output_type": "stream",
     "text": [
      "Sept-19\n"
     ]
    }
   ],
   "source": [
    "print(\"Sept-19\")"
   ]
  },
  {
   "cell_type": "code",
   "execution_count": 31,
   "id": "fd2fc0f1-f4b9-4282-af5e-372d829fae22",
   "metadata": {},
   "outputs": [
    {
     "name": "stdout",
     "output_type": "stream",
     "text": [
      "Break statement : \n"
     ]
    },
    {
     "name": "stdin",
     "output_type": "stream",
     "text": [
      "Enter the number :  12\n"
     ]
    },
    {
     "name": "stdout",
     "output_type": "stream",
     "text": [
      "12\n",
      "24\n",
      "36\n",
      "48\n",
      "60\n",
      "72\n",
      "84\n",
      "96\n"
     ]
    }
   ],
   "source": [
    "print(\"Break statement : \")\n",
    "num=int(input(\"Enter the number : \"))\n",
    "for i in range(num,num*10+num,num):\n",
    "    if i >= 100:\n",
    "        break\n",
    "    print(i)"
   ]
  },
  {
   "cell_type": "code",
   "execution_count": 45,
   "id": "8df05af8-0b42-437d-8231-27db5486d678",
   "metadata": {},
   "outputs": [
    {
     "name": "stdout",
     "output_type": "stream",
     "text": [
      "Continue Statement : \n",
      "5\n",
      "6\n",
      "7\n",
      "8\n",
      "9\n",
      "10\n",
      "28\n",
      "29\n"
     ]
    }
   ],
   "source": [
    "print(\"Continue Statement : \")\n",
    "\n",
    "for i in range(5,30):\n",
    "    if i >= 11 and i <=27:\n",
    "        continue\n",
    "    print(i)"
   ]
  },
  {
   "cell_type": "code",
   "execution_count": 51,
   "id": "63514e7d-43ed-42f9-a924-f3fcb5c39594",
   "metadata": {},
   "outputs": [
    {
     "name": "stdout",
     "output_type": "stream",
     "text": [
      "pass Statement :\n",
      "use when we dont want to write what is in the condition and we dont have any type of syntex error : \n",
      "1\n",
      "2\n",
      "3\n",
      "4\n",
      "5\n",
      "6\n",
      "7\n",
      "8\n",
      "9\n",
      "10\n",
      "11\n",
      "12\n",
      "13\n",
      "14\n",
      "15\n"
     ]
    }
   ],
   "source": [
    "print(\"pass Statement :\")\n",
    "print(\"use when we dont want to write what is in the condition and we dont have any type of syntex error : \")\n",
    "\n",
    "for i in range(1,15+1):\n",
    "    if i==10:\n",
    "        pass\n",
    "    print(i)"
   ]
  },
  {
   "cell_type": "code",
   "execution_count": 55,
   "id": "a1fefe1b-2616-4321-a30d-6fdf7347b888",
   "metadata": {},
   "outputs": [
    {
     "name": "stdout",
     "output_type": "stream",
     "text": [
      "String Indexing :\n",
      "n\n",
      "t\n"
     ]
    }
   ],
   "source": [
    "print(\"String Indexing :\")\n",
    "\n",
    "word=\"Python\"\n",
    "print(word[-1]) # printing last char\n",
    "\n",
    "print(word[2]) # printing 2nd char // Starting from 0 mean print == t\n"
   ]
  },
  {
   "cell_type": "code",
   "execution_count": 71,
   "id": "88f2e854-b8c8-473c-b12b-487044870170",
   "metadata": {},
   "outputs": [
    {
     "name": "stdout",
     "output_type": "stream",
     "text": [
      "String Slicing : \n",
      "dnivoG\n",
      "Go\n",
      "vind\n",
      "Gvn\n"
     ]
    }
   ],
   "source": [
    "print(\"String Slicing : \")\n",
    "\n",
    "word=\"Govind\"\n",
    "print(word[::-1]) # reverse string\n",
    "\n",
    "print(word[:2]) # starting default 0 upto 2 not including 2\n",
    "\n",
    "print(word[2:]) # starting from 2 up to end\n",
    "\n",
    "print(word[0::2]) # starting from 0 upto end with the gap of 2\n"
   ]
  },
  {
   "cell_type": "code",
   "execution_count": 95,
   "id": "8b616dba-643b-47df-8009-2cf1a0c2640f",
   "metadata": {},
   "outputs": [
    {
     "name": "stdout",
     "output_type": "stream",
     "text": [
      "String Methods : \n",
      "HELLO GOVIND\n",
      "hello govind\n",
      "Hello Govind\n",
      "Hello govind\n",
      "Hello Govind\n",
      "Hello World\n",
      "2\n",
      "6\n"
     ]
    }
   ],
   "source": [
    "print(\"String Methods : \")\n",
    "\n",
    "word=\"Hello Govind\"\n",
    "\n",
    "print(word.upper()) # Upper case\n",
    "print(word.lower()) # lower case\n",
    "print(word.title()) # Every word First letter capital\n",
    "print(word.capitalize()) # only first letter of the sentence is capital\n",
    "print(word.strip()) # remove extra spaces\n",
    "print(word.replace(\"Govind\",\"World\")) # word ko replace krr dega\n",
    "print(word.count(\"l\")) # Word Char count karke bta dega\n",
    "print(word.find(\"G\")) # char word find krr ke index bta dega"
   ]
  },
  {
   "cell_type": "code",
   "execution_count": 99,
   "id": "45312690-38d3-46c5-8ef4-d2f0503b0b94",
   "metadata": {},
   "outputs": [
    {
     "name": "stdout",
     "output_type": "stream",
     "text": [
      "String Formating :\n",
      "Hello my name is Govind,and i am 21 years old.\n"
     ]
    }
   ],
   "source": [
    "print(\"String Formating :\")\n",
    "\n",
    "name=\"Govind\"\n",
    "age=21\n",
    "\n",
    "print(f\"Hello my name is {name},and i am {age} years old.\")"
   ]
  },
  {
   "cell_type": "code",
   "execution_count": 107,
   "id": "855fc57d-c3c1-4afd-8663-8c5d9aab9e29",
   "metadata": {},
   "outputs": [
    {
     "name": "stdout",
     "output_type": "stream",
     "text": [
      "chatgpt Questions : \n",
      "1).\n",
      "1\n",
      "2\n",
      "3\n",
      "4\n",
      "5\n",
      "6\n",
      "7\n",
      "8\n",
      "9\n"
     ]
    }
   ],
   "source": [
    "print(\"chatgpt Questions : \")\n",
    "\n",
    "print(\"1).\")\n",
    "\n",
    "for i in range(1,20+1):\n",
    "    if i == 10:\n",
    "        break\n",
    "    print(i)"
   ]
  },
  {
   "cell_type": "code",
   "execution_count": 109,
   "id": "93ea5fe3-a109-4aa6-9a70-68ccd17ef5ce",
   "metadata": {},
   "outputs": [
    {
     "name": "stdout",
     "output_type": "stream",
     "text": [
      "2).\n",
      "1\n",
      "2\n",
      "3\n",
      "4\n",
      "6\n",
      "7\n",
      "8\n",
      "9\n"
     ]
    }
   ],
   "source": [
    "print(\"2).\")\n",
    "\n",
    "for i in range(1,10):\n",
    "    if i == 5:\n",
    "        continue\n",
    "    print(i)"
   ]
  },
  {
   "cell_type": "code",
   "execution_count": 119,
   "id": "d51fe69a-ebea-4bf8-8926-681ad8d00d35",
   "metadata": {},
   "outputs": [
    {
     "name": "stdout",
     "output_type": "stream",
     "text": [
      "3).\n",
      "10\n",
      "20\n"
     ]
    }
   ],
   "source": [
    "print(\"3).\")\n",
    "List=[10,20,30,40,50]\n",
    "for i in List:\n",
    "    if i==30:\n",
    "        break\n",
    "    print(i)"
   ]
  },
  {
   "cell_type": "code",
   "execution_count": 121,
   "id": "0e8e1126-73c2-42f4-87e3-ccb22f8db6fe",
   "metadata": {},
   "outputs": [
    {
     "name": "stdout",
     "output_type": "stream",
     "text": [
      "4).\n",
      "2\n",
      "4\n",
      "6\n",
      "8\n",
      "10\n"
     ]
    }
   ],
   "source": [
    "print(\"4).\")\n",
    "\n",
    "for i in range(1,10+1):\n",
    "    if i % 2 != 0:\n",
    "        continue\n",
    "    print(i)"
   ]
  },
  {
   "cell_type": "code",
   "execution_count": 123,
   "id": "ade7060a-5509-49cb-afd7-56cd8466d8ff",
   "metadata": {},
   "outputs": [
    {
     "name": "stdout",
     "output_type": "stream",
     "text": [
      "5).\n",
      "1\n",
      "2\n",
      "3\n",
      "4\n",
      "5\n",
      "6\n",
      "7\n",
      "8\n",
      "9\n",
      "10\n",
      "11\n",
      "12\n",
      "13\n",
      "14\n",
      "15\n"
     ]
    }
   ],
   "source": [
    "print(\"5).\")\n",
    "\n",
    "for i in range(1,15+1):\n",
    "    if i == 7:\n",
    "        pass\n",
    "    print(i)"
   ]
  },
  {
   "cell_type": "code",
   "execution_count": 147,
   "id": "eacc1ebb-7880-4748-bf79-8e02745b9a2b",
   "metadata": {},
   "outputs": [
    {
     "name": "stdout",
     "output_type": "stream",
     "text": [
      "String :\n",
      "1).\n",
      "Govind\n",
      "Gadekar\n",
      "rakedaGdnivoG\n",
      "Hello World\n",
      " HELLO WORLD \n",
      " Hello Python \n",
      "Python Programming\n",
      "2\n",
      "10\n",
      "Hello friends My name is Govind,and I am 21 years old\n",
      "Palandrome \n"
     ]
    }
   ],
   "source": [
    "print(\"String :\")\n",
    "print(\"1).\")\n",
    "\n",
    "name=\"GovindGadekar\"\n",
    "\n",
    "print(name[:6])\n",
    "print(name[6:])\n",
    "print(name[::-1])\n",
    "\n",
    "word=\" Hello World \"\n",
    "print(word.strip())\n",
    "print(word.upper())\n",
    "print(word.replace(\"World\",\"Python\"))\n",
    "\n",
    "Str=\"Python Programming\"\n",
    "print(Str.title())\n",
    "print(Str.count(\"P\"))\n",
    "print(Str.index(\"gram\"))\n",
    "\n",
    "Uname=\"Govind\"\n",
    "Uage=21\n",
    "\n",
    "print(f\"Hello friends My name is {Uname},and I am {Uage} years old\")\n",
    "\n",
    "m=\"malayalam\"\n",
    "\n",
    "rev=m[::-1]\n",
    "\n",
    "if m == rev:\n",
    "    print(\"Palandrome \")\n",
    "else:\n",
    "    print(\"Not Palandrome \")"
   ]
  },
  {
   "cell_type": "code",
   "execution_count": null,
   "id": "64eaac4b-112a-4722-8391-ac6cdbb9272e",
   "metadata": {},
   "outputs": [],
   "source": []
  }
 ],
 "metadata": {
  "kernelspec": {
   "display_name": "Python [conda env:base] *",
   "language": "python",
   "name": "conda-base-py"
  },
  "language_info": {
   "codemirror_mode": {
    "name": "ipython",
    "version": 3
   },
   "file_extension": ".py",
   "mimetype": "text/x-python",
   "name": "python",
   "nbconvert_exporter": "python",
   "pygments_lexer": "ipython3",
   "version": "3.12.7"
  }
 },
 "nbformat": 4,
 "nbformat_minor": 5
}
