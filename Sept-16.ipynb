{
 "cells": [
  {
   "cell_type": "code",
   "execution_count": null,
   "id": "cd839db0-1de2-4843-8772-9dbe6ebc51ca",
   "metadata": {},
   "outputs": [],
   "source": []
  }
 ],
 "metadata": {
  "kernelspec": {
   "display_name": "",
   "name": ""
  },
  "language_info": {
   "name": ""
  }
 },
 "nbformat": 4,
 "nbformat_minor": 5
}
