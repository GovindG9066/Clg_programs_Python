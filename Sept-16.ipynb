{
 "cells": [
  {
   "cell_type": "code",
   "execution_count": 1,
   "id": "cd839db0-1de2-4843-8772-9dbe6ebc51ca",
   "metadata": {},
   "outputs": [
    {
     "name": "stdout",
     "output_type": "stream",
     "text": [
      "Sept-16\n"
     ]
    }
   ],
   "source": [
    "print(\"Sept-16\")"
   ]
  },
  {
   "cell_type": "code",
   "execution_count": 7,
   "id": "7e060f8e-ab1e-4b4c-b256-d500a084586c",
   "metadata": {},
   "outputs": [
    {
     "name": "stdout",
     "output_type": "stream",
     "text": [
      "Multiplication Table : \n"
     ]
    },
    {
     "name": "stdin",
     "output_type": "stream",
     "text": [
      "Enter a Number :  5\n"
     ]
    },
    {
     "name": "stdout",
     "output_type": "stream",
     "text": [
      "5\n",
      "10\n",
      "15\n",
      "20\n",
      "25\n",
      "30\n",
      "35\n",
      "40\n",
      "45\n",
      "50\n"
     ]
    }
   ],
   "source": [
    "print(\"Multiplication Table : \")\n",
    "num=int(input(\"Enter a Number : \"))\n",
    "count=1\n",
    "\n",
    "while count <=10:\n",
    "    mul=num*count\n",
    "    print(mul)\n",
    "    count+=1"
   ]
  },
  {
   "cell_type": "code",
   "execution_count": 5,
   "id": "f30caf73-0520-44b0-9414-cee05f184a58",
   "metadata": {},
   "outputs": [
    {
     "name": "stdout",
     "output_type": "stream",
     "text": [
      "Multiplication table using addition : \n",
      "12\n",
      "12\n",
      "12\n",
      "12\n",
      "12\n",
      "12\n",
      "12\n",
      "12\n",
      "12\n"
     ]
    }
   ],
   "source": [
    "print(\"Multiplication t)\n",
    "def table(n, i):\n",
    "    if i == 0:   # base case\n",
    "        return\n",
    "    table(n, i-1)   # recursive call\n",
    "    print(n, \"x\", i, \"=\", n*i)\n",
    "\n",
    "# Example\n",
    "num = int(input(\"Enter a number: \"))\n",
    "table(num, 10)\n"
   ]
  },
  {
   "cell_type": "code",
   "execution_count": null,
   "id": "4a078f94-c42c-4b8b-80d1-dbac4b6d44d3",
   "metadata": {},
   "outputs": [],
   "source": []
  }
 ],
 "metadata": {
  "kernelspec": {
   "display_name": "Python [conda env:base] *",
   "language": "python",
   "name": "conda-base-py"
  },
  "language_info": {
   "codemirror_mode": {
    "name": "ipython",
    "version": 3
   },
   "file_extension": ".py",
   "mimetype": "text/x-python",
   "name": "python",
   "nbconvert_exporter": "python",
   "pygments_lexer": "ipython3",
   "version": "3.12.7"
  }
 },
 "nbformat": 4,
 "nbformat_minor": 5
}
