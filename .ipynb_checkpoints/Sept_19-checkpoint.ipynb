{
 "cells": [
  {
   "cell_type": "code",
   "execution_count": 3,
   "id": "dcf6123b-b2fc-4512-a36e-4f7f776eaa62",
   "metadata": {},
   "outputs": [
    {
     "name": "stdout",
     "output_type": "stream",
     "text": [
      "Sept-19\n"
     ]
    }
   ],
   "source": [
    "print(\"Sept-19\")"
   ]
  },
  {
   "cell_type": "code",
   "execution_count": null,
   "id": "fd2fc0f1-f4b9-4282-af5e-372d829fae22",
   "metadata": {},
   "outputs": [],
   "source": []
  }
 ],
 "metadata": {
  "kernelspec": {
   "display_name": "Python [conda env:base] *",
   "language": "python",
   "name": "conda-base-py"
  },
  "language_info": {
   "codemirror_mode": {
    "name": "ipython",
    "version": 3
   },
   "file_extension": ".py",
   "mimetype": "text/x-python",
   "name": "python",
   "nbconvert_exporter": "python",
   "pygments_lexer": "ipython3",
   "version": "3.12.7"
  }
 },
 "nbformat": 4,
 "nbformat_minor": 5
}
