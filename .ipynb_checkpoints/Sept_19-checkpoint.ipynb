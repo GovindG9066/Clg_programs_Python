{
 "cells": [
  {
   "cell_type": "code",
   "execution_count": 3,
   "id": "dcf6123b-b2fc-4512-a36e-4f7f776eaa62",
   "metadata": {},
   "outputs": [
    {
     "name": "stdout",
     "output_type": "stream",
     "text": [
      "Sept-19\n"
     ]
    }
   ],
   "source": [
    "print(\"Sept-19\")"
   ]
  },
  {
   "cell_type": "code",
   "execution_count": 31,
   "id": "fd2fc0f1-f4b9-4282-af5e-372d829fae22",
   "metadata": {},
   "outputs": [
    {
     "name": "stdout",
     "output_type": "stream",
     "text": [
      "Break statement : \n"
     ]
    },
    {
     "name": "stdin",
     "output_type": "stream",
     "text": [
      "Enter the number :  12\n"
     ]
    },
    {
     "name": "stdout",
     "output_type": "stream",
     "text": [
      "12\n",
      "24\n",
      "36\n",
      "48\n",
      "60\n",
      "72\n",
      "84\n",
      "96\n"
     ]
    }
   ],
   "source": [
    "print(\"Break statement : \")\n",
    "num=int(input(\"Enter the number : \"))\n",
    "for i in range(num,num*10+num,num):\n",
    "    if i >= 100:\n",
    "        break\n",
    "    print(i)"
   ]
  },
  {
   "cell_type": "code",
   "execution_count": 45,
   "id": "8df05af8-0b42-437d-8231-27db5486d678",
   "metadata": {},
   "outputs": [
    {
     "name": "stdout",
     "output_type": "stream",
     "text": [
      "Continue Statement : \n",
      "5\n",
      "6\n",
      "7\n",
      "8\n",
      "9\n",
      "10\n",
      "28\n",
      "29\n"
     ]
    }
   ],
   "source": [
    "print(\"Continue Statement : \")\n",
    "\n",
    "for i in range(5,30):\n",
    "    if i >= 11 and i <=27:\n",
    "        continue\n",
    "    print(i)"
   ]
  },
  {
   "cell_type": "code",
   "execution_count": 51,
   "id": "63514e7d-43ed-42f9-a924-f3fcb5c39594",
   "metadata": {},
   "outputs": [
    {
     "name": "stdout",
     "output_type": "stream",
     "text": [
      "pass Statement :\n",
      "use when we dont want to write what is in the condition and we dont have any type of syntex error : \n",
      "1\n",
      "2\n",
      "3\n",
      "4\n",
      "5\n",
      "6\n",
      "7\n",
      "8\n",
      "9\n",
      "10\n",
      "11\n",
      "12\n",
      "13\n",
      "14\n",
      "15\n"
     ]
    }
   ],
   "source": [
    "print(\"pass Statement :\")\n",
    "print(\"use when we dont want to write what is in the condition and we dont have any type of syntex error : \")\n",
    "\n",
    "for i in range(1,15+1):\n",
    "    if i==10:\n",
    "        pass\n",
    "    print(i)"
   ]
  },
  {
   "cell_type": "code",
   "execution_count": 55,
   "id": "a1fefe1b-2616-4321-a30d-6fdf7347b888",
   "metadata": {},
   "outputs": [
    {
     "name": "stdout",
     "output_type": "stream",
     "text": [
      "String Indexing :\n",
      "n\n",
      "t\n"
     ]
    }
   ],
   "source": [
    "print(\"String Indexing :\")\n",
    "\n",
    "word=\"Python\"\n",
    "print(word[-1]) # printing last char\n",
    "\n",
    "print(word[2]) # printing 2nd char // Starting from 0 mean print == t\n"
   ]
  },
  {
   "cell_type": "code",
   "execution_count": null,
   "id": "88f2e854-b8c8-473c-b12b-487044870170",
   "metadata": {},
   "outputs": [],
   "source": []
  }
 ],
 "metadata": {
  "kernelspec": {
   "display_name": "Python [conda env:base] *",
   "language": "python",
   "name": "conda-base-py"
  },
  "language_info": {
   "codemirror_mode": {
    "name": "ipython",
    "version": 3
   },
   "file_extension": ".py",
   "mimetype": "text/x-python",
   "name": "python",
   "nbconvert_exporter": "python",
   "pygments_lexer": "ipython3",
   "version": "3.12.7"
  }
 },
 "nbformat": 4,
 "nbformat_minor": 5
}
