{
 "cells": [
  {
   "cell_type": "code",
   "execution_count": 3,
   "id": "53a14419-f2bb-46a7-9501-0b8950635efd",
   "metadata": {},
   "outputs": [
    {
     "name": "stdout",
     "output_type": "stream",
     "text": [
      "sept-20\n"
     ]
    }
   ],
   "source": [
    "print(\"sept-20\")"
   ]
  },
  {
   "cell_type": "code",
   "execution_count": 19,
   "id": "51c5b6c4-4068-4bcd-b4eb-7df63f9c64d8",
   "metadata": {},
   "outputs": [
    {
     "name": "stdout",
     "output_type": "stream",
     "text": [
      "Next topic List :\n",
      "[12, 4, 66, 8, 26]\n",
      "[123, 'Hello', True, 3.14, '@']\n",
      "[[12], [23], [34]]\n"
     ]
    }
   ],
   "source": [
    "print(\"Next topic List :\")\n",
    "my_list=[] # empty list\n",
    "\n",
    "my_list1=[12,4,66,8,26]\n",
    "print(my_list1)\n",
    "\n",
    "mixed_list=[123,\"Hello\", True , 3.14, \"@\" ] # use all the data types in the list \n",
    "print(mixed_list)\n",
    "\n",
    "my_list2=[[12],[23],[34]] # nested list\n",
    "print(my_list2)"
   ]
  },
  {
   "cell_type": "code",
   "execution_count": 29,
   "id": "c5be0021-80d3-4600-967c-e7c771a640bb",
   "metadata": {},
   "outputs": [
    {
     "name": "stdout",
     "output_type": "stream",
     "text": [
      "List Indexing : \n",
      "['Apple', 'Banana', 'Cherry', 'Mango', 'Graps']\n",
      "Graps\n",
      "Cherry\n",
      "Apple\n"
     ]
    }
   ],
   "source": [
    "print(\"List Indexing : \")\n",
    "\n",
    "fruits=[\"Apple\",\"Banana\",\"Cherry\",\"Mango\",\"Graps\"]\n",
    "print(fruits)\n",
    "print(fruits[-1]) # negative indexing allowed\n",
    "print(fruits[1+1])\n",
    "print(fruits[0]) # indexing starting from 0"
   ]
  },
  {
   "cell_type": "code",
   "execution_count": 47,
   "id": "8f53fc20-3d2c-44d9-a80d-6bcd120998b5",
   "metadata": {},
   "outputs": [
    {
     "name": "stdout",
     "output_type": "stream",
     "text": [
      "List Slicing :\n",
      "[45, 89, 2, 4, 662, 4, 1, 6]\n",
      "2\n",
      "8\n",
      "[45, 2, 662, 1]\n",
      "[6, 1, 4, 662, 4, 2, 89, 45]\n"
     ]
    }
   ],
   "source": [
    "print(\"List Slicing :\")\n",
    "\n",
    "num=[45,89,2,4,662,4,1,6]\n",
    "print(num)\n",
    "print(num.count(4)) # count how many 4 in the list\n",
    "print(len(num)) # total count of the list\n",
    "print(num[::2]) # printing numbers from list with the gap 2\n",
    "print(num[::-1]) # reverse of the list\n"
   ]
  },
  {
   "cell_type": "code",
   "execution_count": null,
   "id": "d1071e46-b949-48d4-8865-3d3e56f53297",
   "metadata": {},
   "outputs": [],
   "source": []
  }
 ],
 "metadata": {
  "kernelspec": {
   "display_name": "Python [conda env:base] *",
   "language": "python",
   "name": "conda-base-py"
  },
  "language_info": {
   "codemirror_mode": {
    "name": "ipython",
    "version": 3
   },
   "file_extension": ".py",
   "mimetype": "text/x-python",
   "name": "python",
   "nbconvert_exporter": "python",
   "pygments_lexer": "ipython3",
   "version": "3.12.7"
  }
 },
 "nbformat": 4,
 "nbformat_minor": 5
}
