{
 "cells": [
  {
   "cell_type": "code",
   "execution_count": 1,
   "id": "0064afb9-d5ef-492e-8416-574aa5dd5fb3",
   "metadata": {},
   "outputs": [
    {
     "name": "stdout",
     "output_type": "stream",
     "text": [
      "Sept-17\n"
     ]
    }
   ],
   "source": [
    "print(\"Sept-17\")"
   ]
  },
  {
   "cell_type": "code",
   "execution_count": null,
   "id": "3d8b6ea2-9ff2-415a-94c1-4d0ca5b931fc",
   "metadata": {},
   "outputs": [],
   "source": []
  }
 ],
 "metadata": {
  "kernelspec": {
   "display_name": "Python [conda env:base] *",
   "language": "python",
   "name": "conda-base-py"
  },
  "language_info": {
   "codemirror_mode": {
    "name": "ipython",
    "version": 3
   },
   "file_extension": ".py",
   "mimetype": "text/x-python",
   "name": "python",
   "nbconvert_exporter": "python",
   "pygments_lexer": "ipython3",
   "version": "3.12.7"
  }
 },
 "nbformat": 4,
 "nbformat_minor": 5
}
