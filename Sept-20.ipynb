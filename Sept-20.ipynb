{
 "cells": [
  {
   "cell_type": "code",
   "execution_count": 3,
   "id": "53a14419-f2bb-46a7-9501-0b8950635efd",
   "metadata": {},
   "outputs": [
    {
     "name": "stdout",
     "output_type": "stream",
     "text": [
      "sept-20\n"
     ]
    }
   ],
   "source": [
    "print(\"sept-20\")"
   ]
  },
  {
   "cell_type": "code",
   "execution_count": 15,
   "id": "51c5b6c4-4068-4bcd-b4eb-7df63f9c64d8",
   "metadata": {},
   "outputs": [
    {
     "name": "stdout",
     "output_type": "stream",
     "text": [
      "Next topic List :\n",
      "[12, 4, 66, 8, 26]\n",
      "[123, 'Hello', True, 3.14, '@']\n"
     ]
    }
   ],
   "source": [
    "print(\"Next topic List :\")\n",
    "my_list=[] # empty list\n",
    "\n",
    "my_list1=[12,4,66,8,26]\n",
    "print(my_list1)\n",
    "\n",
    "mixed_list=[123,\"Hello\", True , 3.14, \"@\" ]\n",
    "print(mixed_list)\n",
    "\n",
    "my_list2=[[12],[23],[34]]\n",
    "print()my_list2"
   ]
  },
  {
   "cell_type": "code",
   "execution_count": null,
   "id": "c5be0021-80d3-4600-967c-e7c771a640bb",
   "metadata": {},
   "outputs": [],
   "source": []
  }
 ],
 "metadata": {
  "kernelspec": {
   "display_name": "Python [conda env:base] *",
   "language": "python",
   "name": "conda-base-py"
  },
  "language_info": {
   "codemirror_mode": {
    "name": "ipython",
    "version": 3
   },
   "file_extension": ".py",
   "mimetype": "text/x-python",
   "name": "python",
   "nbconvert_exporter": "python",
   "pygments_lexer": "ipython3",
   "version": "3.12.7"
  }
 },
 "nbformat": 4,
 "nbformat_minor": 5
}
